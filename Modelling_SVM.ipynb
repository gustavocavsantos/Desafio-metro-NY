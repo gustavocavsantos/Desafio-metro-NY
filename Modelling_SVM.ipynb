{
 "cells": [
  {
   "cell_type": "code",
   "execution_count": 1,
   "metadata": {},
   "outputs": [],
   "source": [
    "import pandas as pd\n",
    "import numpy as np\n",
    "from resampling import time_resampling\n",
    "\n",
    "\n",
    "import sys\n",
    "import warnings\n",
    "if not sys.warnoptions:\n",
    "    warnings.simplefilter(\"ignore\")"
   ]
  },
  {
   "cell_type": "code",
   "execution_count": 2,
   "metadata": {},
   "outputs": [],
   "source": [
    "###### Aplicação da Função para resampling da base de dados, deixando em formato horário. #################\n",
    "###### Arquivo da Função: resampling.py\n",
    "###########################################################################################################\n",
    "df0= time_resampling('C:/Users/gusta/Google Drive/dados_desafio/2010.csv','1D')\n",
    "df1= time_resampling('C:/Users/gusta/Google Drive/dados_desafio/2011.csv','1D')\n",
    "df2= time_resampling('C:/Users/gusta/Google Drive/dados_desafio/2012.csv','1D')\n",
    "df3= time_resampling('C:/Users/gusta/Google Drive/dados_desafio/2013.csv','1D')\n",
    "df4= time_resampling('C:/Users/gusta/Google Drive/dados_desafio/2014.csv','1D')\n",
    "df5= time_resampling('C:/Users/gusta/Google Drive/dados_desafio/2015.csv','1D')\n",
    "df6= time_resampling('C:/Users/gusta/Google Drive/dados_desafio/2016.csv','1D')\n",
    "df7= time_resampling('C:/Users/gusta/Google Drive/dados_desafio/2017.csv','1D')\n",
    "#########################################################################,'1D'###################################"
   ]
  },
  {
   "cell_type": "code",
   "execution_count": 3,
   "metadata": {},
   "outputs": [
    {
     "data": {
      "text/html": [
       "<div>\n",
       "<style scoped>\n",
       "    .dataframe tbody tr th:only-of-type {\n",
       "        vertical-align: middle;\n",
       "    }\n",
       "\n",
       "    .dataframe tbody tr th {\n",
       "        vertical-align: top;\n",
       "    }\n",
       "\n",
       "    .dataframe thead th {\n",
       "        text-align: right;\n",
       "    }\n",
       "</style>\n",
       "<table border=\"1\" class=\"dataframe\">\n",
       "  <thead>\n",
       "    <tr style=\"text-align: right;\">\n",
       "      <th></th>\n",
       "      <th>entries</th>\n",
       "      <th>exits</th>\n",
       "    </tr>\n",
       "    <tr>\n",
       "      <th>time</th>\n",
       "      <th></th>\n",
       "      <th></th>\n",
       "    </tr>\n",
       "  </thead>\n",
       "  <tbody>\n",
       "    <tr>\n",
       "      <th>2010-04-17</th>\n",
       "      <td>5.812548e+10</td>\n",
       "      <td>4.953496e+10</td>\n",
       "    </tr>\n",
       "    <tr>\n",
       "      <th>2010-04-18</th>\n",
       "      <td>7.077174e+10</td>\n",
       "      <td>6.115159e+10</td>\n",
       "    </tr>\n",
       "    <tr>\n",
       "      <th>2010-04-19</th>\n",
       "      <td>7.382511e+10</td>\n",
       "      <td>6.349756e+10</td>\n",
       "    </tr>\n",
       "    <tr>\n",
       "      <th>2010-04-20</th>\n",
       "      <td>7.234986e+10</td>\n",
       "      <td>6.115444e+10</td>\n",
       "    </tr>\n",
       "    <tr>\n",
       "      <th>2010-04-21</th>\n",
       "      <td>7.054381e+10</td>\n",
       "      <td>6.185858e+10</td>\n",
       "    </tr>\n",
       "    <tr>\n",
       "      <th>...</th>\n",
       "      <td>...</td>\n",
       "      <td>...</td>\n",
       "    </tr>\n",
       "    <tr>\n",
       "      <th>2017-09-19</th>\n",
       "      <td>1.117203e+12</td>\n",
       "      <td>8.926680e+11</td>\n",
       "    </tr>\n",
       "    <tr>\n",
       "      <th>2017-09-20</th>\n",
       "      <td>1.134720e+12</td>\n",
       "      <td>9.066210e+11</td>\n",
       "    </tr>\n",
       "    <tr>\n",
       "      <th>2017-09-21</th>\n",
       "      <td>1.144419e+12</td>\n",
       "      <td>9.201752e+11</td>\n",
       "    </tr>\n",
       "    <tr>\n",
       "      <th>2017-09-22</th>\n",
       "      <td>1.120715e+12</td>\n",
       "      <td>8.930891e+11</td>\n",
       "    </tr>\n",
       "    <tr>\n",
       "      <th>2017-09-23</th>\n",
       "      <td>1.812339e+11</td>\n",
       "      <td>1.438696e+11</td>\n",
       "    </tr>\n",
       "  </tbody>\n",
       "</table>\n",
       "<p>2717 rows × 2 columns</p>\n",
       "</div>"
      ],
      "text/plain": [
       "                 entries         exits\n",
       "time                                  \n",
       "2010-04-17  5.812548e+10  4.953496e+10\n",
       "2010-04-18  7.077174e+10  6.115159e+10\n",
       "2010-04-19  7.382511e+10  6.349756e+10\n",
       "2010-04-20  7.234986e+10  6.115444e+10\n",
       "2010-04-21  7.054381e+10  6.185858e+10\n",
       "...                  ...           ...\n",
       "2017-09-19  1.117203e+12  8.926680e+11\n",
       "2017-09-20  1.134720e+12  9.066210e+11\n",
       "2017-09-21  1.144419e+12  9.201752e+11\n",
       "2017-09-22  1.120715e+12  8.930891e+11\n",
       "2017-09-23  1.812339e+11  1.438696e+11\n",
       "\n",
       "[2717 rows x 2 columns]"
      ]
     },
     "execution_count": 3,
     "metadata": {},
     "output_type": "execute_result"
    }
   ],
   "source": [
    "##### Concatenando as bases anuais para formação da série temporal. \n",
    "df= pd.concat([df0,df1,df2,df3,df4,df5,df6,df7],axis=0)\n",
    "df"
   ]
  },
  {
   "cell_type": "code",
   "execution_count": 4,
   "metadata": {},
   "outputs": [
    {
     "name": "stdout",
     "output_type": "stream",
     "text": [
      "<class 'pandas.core.frame.DataFrame'>\n",
      "DatetimeIndex: 2717 entries, 2010-04-17 to 2017-09-23\n",
      "Freq: D\n",
      "Data columns (total 2 columns):\n",
      " #   Column   Non-Null Count  Dtype  \n",
      "---  ------   --------------  -----  \n",
      " 0   entries  2717 non-null   float64\n",
      " 1   exits    2717 non-null   float64\n",
      "dtypes: float64(2)\n",
      "memory usage: 63.7 KB\n"
     ]
    }
   ],
   "source": [
    "df.info()"
   ]
  },
  {
   "cell_type": "code",
   "execution_count": 5,
   "metadata": {},
   "outputs": [
    {
     "data": {
      "text/html": [
       "<div>\n",
       "<style scoped>\n",
       "    .dataframe tbody tr th:only-of-type {\n",
       "        vertical-align: middle;\n",
       "    }\n",
       "\n",
       "    .dataframe tbody tr th {\n",
       "        vertical-align: top;\n",
       "    }\n",
       "\n",
       "    .dataframe thead th {\n",
       "        text-align: right;\n",
       "    }\n",
       "</style>\n",
       "<table border=\"1\" class=\"dataframe\">\n",
       "  <thead>\n",
       "    <tr style=\"text-align: right;\">\n",
       "      <th></th>\n",
       "      <th>entries</th>\n",
       "      <th>exits</th>\n",
       "    </tr>\n",
       "  </thead>\n",
       "  <tbody>\n",
       "    <tr>\n",
       "      <th>count</th>\n",
       "      <td>2.717000e+03</td>\n",
       "      <td>2.717000e+03</td>\n",
       "    </tr>\n",
       "    <tr>\n",
       "      <th>mean</th>\n",
       "      <td>4.320449e+11</td>\n",
       "      <td>3.454457e+11</td>\n",
       "    </tr>\n",
       "    <tr>\n",
       "      <th>std</th>\n",
       "      <td>4.013090e+11</td>\n",
       "      <td>3.217753e+11</td>\n",
       "    </tr>\n",
       "    <tr>\n",
       "      <th>min</th>\n",
       "      <td>0.000000e+00</td>\n",
       "      <td>0.000000e+00</td>\n",
       "    </tr>\n",
       "    <tr>\n",
       "      <th>25%</th>\n",
       "      <td>7.991038e+10</td>\n",
       "      <td>6.898809e+10</td>\n",
       "    </tr>\n",
       "    <tr>\n",
       "      <th>50%</th>\n",
       "      <td>1.785344e+11</td>\n",
       "      <td>1.350708e+11</td>\n",
       "    </tr>\n",
       "    <tr>\n",
       "      <th>75%</th>\n",
       "      <td>8.978455e+11</td>\n",
       "      <td>7.349952e+11</td>\n",
       "    </tr>\n",
       "    <tr>\n",
       "      <th>max</th>\n",
       "      <td>1.260766e+12</td>\n",
       "      <td>1.073072e+12</td>\n",
       "    </tr>\n",
       "  </tbody>\n",
       "</table>\n",
       "</div>"
      ],
      "text/plain": [
       "            entries         exits\n",
       "count  2.717000e+03  2.717000e+03\n",
       "mean   4.320449e+11  3.454457e+11\n",
       "std    4.013090e+11  3.217753e+11\n",
       "min    0.000000e+00  0.000000e+00\n",
       "25%    7.991038e+10  6.898809e+10\n",
       "50%    1.785344e+11  1.350708e+11\n",
       "75%    8.978455e+11  7.349952e+11\n",
       "max    1.260766e+12  1.073072e+12"
      ]
     },
     "execution_count": 5,
     "metadata": {},
     "output_type": "execute_result"
    }
   ],
   "source": [
    "df.describe()"
   ]
  },
  {
   "cell_type": "code",
   "execution_count": 6,
   "metadata": {},
   "outputs": [],
   "source": [
    "# processando dados faltantes na série histórica\n",
    "df['entries']=df['entries'].mask(df['entries'] == 0).ffill(downcast='infer')"
   ]
  },
  {
   "cell_type": "code",
   "execution_count": 7,
   "metadata": {},
   "outputs": [
    {
     "data": {
      "text/plain": [
       "(2717, 2)"
      ]
     },
     "execution_count": 7,
     "metadata": {},
     "output_type": "execute_result"
    }
   ],
   "source": [
    "df.shape"
   ]
  },
  {
   "cell_type": "code",
   "execution_count": 8,
   "metadata": {},
   "outputs": [
    {
     "data": {
      "text/html": [
       "<div>\n",
       "<style scoped>\n",
       "    .dataframe tbody tr th:only-of-type {\n",
       "        vertical-align: middle;\n",
       "    }\n",
       "\n",
       "    .dataframe tbody tr th {\n",
       "        vertical-align: top;\n",
       "    }\n",
       "\n",
       "    .dataframe thead th {\n",
       "        text-align: right;\n",
       "    }\n",
       "</style>\n",
       "<table border=\"1\" class=\"dataframe\">\n",
       "  <thead>\n",
       "    <tr style=\"text-align: right;\">\n",
       "      <th></th>\n",
       "      <th>entries</th>\n",
       "    </tr>\n",
       "  </thead>\n",
       "  <tbody>\n",
       "    <tr>\n",
       "      <th>count</th>\n",
       "      <td>2.717000e+03</td>\n",
       "    </tr>\n",
       "    <tr>\n",
       "      <th>mean</th>\n",
       "      <td>4.320978e+11</td>\n",
       "    </tr>\n",
       "    <tr>\n",
       "      <th>std</th>\n",
       "      <td>4.012528e+11</td>\n",
       "    </tr>\n",
       "    <tr>\n",
       "      <th>min</th>\n",
       "      <td>1.189887e+10</td>\n",
       "    </tr>\n",
       "    <tr>\n",
       "      <th>25%</th>\n",
       "      <td>7.991038e+10</td>\n",
       "    </tr>\n",
       "    <tr>\n",
       "      <th>50%</th>\n",
       "      <td>1.785344e+11</td>\n",
       "    </tr>\n",
       "    <tr>\n",
       "      <th>75%</th>\n",
       "      <td>8.978455e+11</td>\n",
       "    </tr>\n",
       "    <tr>\n",
       "      <th>max</th>\n",
       "      <td>1.260766e+12</td>\n",
       "    </tr>\n",
       "  </tbody>\n",
       "</table>\n",
       "</div>"
      ],
      "text/plain": [
       "            entries\n",
       "count  2.717000e+03\n",
       "mean   4.320978e+11\n",
       "std    4.012528e+11\n",
       "min    1.189887e+10\n",
       "25%    7.991038e+10\n",
       "50%    1.785344e+11\n",
       "75%    8.978455e+11\n",
       "max    1.260766e+12"
      ]
     },
     "execution_count": 8,
     "metadata": {},
     "output_type": "execute_result"
    }
   ],
   "source": [
    "df[['entries']].describe()"
   ]
  },
  {
   "cell_type": "code",
   "execution_count": 9,
   "metadata": {
    "scrolled": true
   },
   "outputs": [
    {
     "data": {
      "text/plain": [
       "<AxesSubplot:xlabel='time'>"
      ]
     },
     "execution_count": 9,
     "metadata": {},
     "output_type": "execute_result"
    },
    {
     "data": {
      "image/png": "[encoded data removed]",
      "text/plain": [
       "<Figure size 1440x432 with 1 Axes>"
      ]
     },
     "metadata": {
      "needs_background": "light"
     },
     "output_type": "display_data"
    }
   ],
   "source": [
    "df['entries'].plot(figsize=(20,6))"
   ]
  },
  {
   "cell_type": "markdown",
   "metadata": {},
   "source": [
    "# Gerando os dados sequenciais para a rede recorrente"
   ]
  },
  {
   "cell_type": "code",
   "execution_count": 10,
   "metadata": {},
   "outputs": [],
   "source": [
    "series=df[['entries']]\n",
    "series= series.head(series.shape[0]-1) ## excluindo o dia 2017-09-23  que possui dados inconpletos\n",
    "\n",
    "janela= 14 # tamanho da janela deslizante utilizada -> N° de observações passadas\n",
    "horizon=1  # horizonte de previsão\n",
    "\n",
    "for i in range(0,janela):\n",
    "    name= 'shihft_' + str(i+1)\n",
    "    series[name]= series['entries'].shift(i+1)\n",
    "    \n",
    "series= series[series.columns[::-1]]   \n",
    "series['Label']= series['entries'].shift(-horizon)\n",
    "series=series.dropna()"
   ]
  },
  {
   "cell_type": "markdown",
   "metadata": {},
   "source": [
    "# Divisão treino - teste cronológica"
   ]
  },
  {
   "cell_type": "code",
   "execution_count": 11,
   "metadata": {},
   "outputs": [],
   "source": [
    "series['Label']=series['Label']/10000000000 #trabalhamos com o Label em menor escala para facilitar\n",
    "from sklearn.model_selection import train_test_split\n",
    "X_train, X_test, y_train, y_test = train_test_split(series.drop(['Label'],axis=1), series[['Label']],\n",
    "                                                    test_size=0.2, shuffle=False)"
   ]
  },
  {
   "cell_type": "code",
   "execution_count": 12,
   "metadata": {},
   "outputs": [
    {
     "data": {
      "text/html": [
       "<div>\n",
       "<style scoped>\n",
       "    .dataframe tbody tr th:only-of-type {\n",
       "        vertical-align: middle;\n",
       "    }\n",
       "\n",
       "    .dataframe tbody tr th {\n",
       "        vertical-align: top;\n",
       "    }\n",
       "\n",
       "    .dataframe thead th {\n",
       "        text-align: right;\n",
       "    }\n",
       "</style>\n",
       "<table border=\"1\" class=\"dataframe\">\n",
       "  <thead>\n",
       "    <tr style=\"text-align: right;\">\n",
       "      <th></th>\n",
       "      <th>shihft_14</th>\n",
       "      <th>shihft_13</th>\n",
       "      <th>shihft_12</th>\n",
       "      <th>shihft_11</th>\n",
       "      <th>shihft_10</th>\n",
       "      <th>shihft_9</th>\n",
       "      <th>shihft_8</th>\n",
       "      <th>shihft_7</th>\n",
       "      <th>shihft_6</th>\n",
       "      <th>shihft_5</th>\n",
       "      <th>shihft_4</th>\n",
       "      <th>shihft_3</th>\n",
       "      <th>shihft_2</th>\n",
       "      <th>shihft_1</th>\n",
       "      <th>entries</th>\n",
       "    </tr>\n",
       "    <tr>\n",
       "      <th>time</th>\n",
       "      <th></th>\n",
       "      <th></th>\n",
       "      <th></th>\n",
       "      <th></th>\n",
       "      <th></th>\n",
       "      <th></th>\n",
       "      <th></th>\n",
       "      <th></th>\n",
       "      <th></th>\n",
       "      <th></th>\n",
       "      <th></th>\n",
       "      <th></th>\n",
       "      <th></th>\n",
       "      <th></th>\n",
       "      <th></th>\n",
       "    </tr>\n",
       "  </thead>\n",
       "  <tbody>\n",
       "    <tr>\n",
       "      <th>2010-05-01</th>\n",
       "      <td>5.812548e+10</td>\n",
       "      <td>7.077174e+10</td>\n",
       "      <td>7.382511e+10</td>\n",
       "      <td>7.234986e+10</td>\n",
       "      <td>7.054381e+10</td>\n",
       "      <td>6.904329e+10</td>\n",
       "      <td>7.020471e+10</td>\n",
       "      <td>1.189887e+10</td>\n",
       "      <td>1.189887e+10</td>\n",
       "      <td>1.189887e+10</td>\n",
       "      <td>1.189887e+10</td>\n",
       "      <td>1.189887e+10</td>\n",
       "      <td>1.189887e+10</td>\n",
       "      <td>1.189887e+10</td>\n",
       "      <td>57030898125</td>\n",
       "    </tr>\n",
       "  </tbody>\n",
       "</table>\n",
       "</div>"
      ],
      "text/plain": [
       "               shihft_14     shihft_13     shihft_12     shihft_11  \\\n",
       "time                                                                 \n",
       "2010-05-01  5.812548e+10  7.077174e+10  7.382511e+10  7.234986e+10   \n",
       "\n",
       "               shihft_10      shihft_9      shihft_8      shihft_7  \\\n",
       "time                                                                 \n",
       "2010-05-01  7.054381e+10  6.904329e+10  7.020471e+10  1.189887e+10   \n",
       "\n",
       "                shihft_6      shihft_5      shihft_4      shihft_3  \\\n",
       "time                                                                 \n",
       "2010-05-01  1.189887e+10  1.189887e+10  1.189887e+10  1.189887e+10   \n",
       "\n",
       "                shihft_2      shihft_1      entries  \n",
       "time                                                 \n",
       "2010-05-01  1.189887e+10  1.189887e+10  57030898125  "
      ]
     },
     "execution_count": 12,
     "metadata": {},
     "output_type": "execute_result"
    }
   ],
   "source": [
    "X_train.head(1)"
   ]
  },
  {
   "cell_type": "code",
   "execution_count": 13,
   "metadata": {},
   "outputs": [
    {
     "data": {
      "text/html": [
       "<div>\n",
       "<style scoped>\n",
       "    .dataframe tbody tr th:only-of-type {\n",
       "        vertical-align: middle;\n",
       "    }\n",
       "\n",
       "    .dataframe tbody tr th {\n",
       "        vertical-align: top;\n",
       "    }\n",
       "\n",
       "    .dataframe thead th {\n",
       "        text-align: right;\n",
       "    }\n",
       "</style>\n",
       "<table border=\"1\" class=\"dataframe\">\n",
       "  <thead>\n",
       "    <tr style=\"text-align: right;\">\n",
       "      <th></th>\n",
       "      <th>Label</th>\n",
       "    </tr>\n",
       "    <tr>\n",
       "      <th>time</th>\n",
       "      <th></th>\n",
       "    </tr>\n",
       "  </thead>\n",
       "  <tbody>\n",
       "    <tr>\n",
       "      <th>2017-09-21</th>\n",
       "      <td>112.07152</td>\n",
       "    </tr>\n",
       "  </tbody>\n",
       "</table>\n",
       "</div>"
      ],
      "text/plain": [
       "                Label\n",
       "time                 \n",
       "2017-09-21  112.07152"
      ]
     },
     "execution_count": 13,
     "metadata": {},
     "output_type": "execute_result"
    }
   ],
   "source": [
    "y_test.tail(1)"
   ]
  },
  {
   "cell_type": "code",
   "execution_count": 14,
   "metadata": {},
   "outputs": [
    {
     "name": "stdout",
     "output_type": "stream",
     "text": [
      "(2160, 15)\n",
      "(541, 15)\n"
     ]
    }
   ],
   "source": [
    "#Processando o dataframe para a aplicação do SVM\n",
    "from sklearn.preprocessing import StandardScaler\n",
    "\n",
    "scaler = StandardScaler()\n",
    "X= (X_train.values)\n",
    "Y= y_train.values\n",
    "    \n",
    "scaler.fit(X)\n",
    "X= scaler.transform(X)\n",
    "\n",
    "X2= (X_test.values)\n",
    "X2= scaler.transform(X2)\n",
    "    \n",
    "Y2= y_test.values\n",
    "print(X.shape)\n",
    "print(X2.shape)"
   ]
  },
  {
   "cell_type": "code",
   "execution_count": 15,
   "metadata": {},
   "outputs": [
    {
     "data": {
      "text/plain": [
       "SVR(C=1, epsilon=0.2, kernel='linear')"
      ]
     },
     "execution_count": 15,
     "metadata": {},
     "output_type": "execute_result"
    }
   ],
   "source": [
    "from sklearn.svm import SVR\n",
    "model= SVR(kernel='linear',C=1, epsilon=0.2)\n",
    "model.fit(X, Y)"
   ]
  },
  {
   "cell_type": "code",
   "execution_count": 16,
   "metadata": {},
   "outputs": [],
   "source": [
    "predictions=model.predict(X2)\n",
    "predictions_train=model.predict(X)"
   ]
  },
  {
   "cell_type": "code",
   "execution_count": 17,
   "metadata": {},
   "outputs": [],
   "source": [
    "y_test['Pred']=predictions\n",
    "y_train['Pred']=predictions_train"
   ]
  },
  {
   "cell_type": "markdown",
   "metadata": {},
   "source": [
    "# Visualização das predições"
   ]
  },
  {
   "cell_type": "code",
   "execution_count": 18,
   "metadata": {},
   "outputs": [
    {
     "data": {
      "text/plain": [
       "<AxesSubplot:xlabel='time'>"
      ]
     },
     "execution_count": 18,
     "metadata": {},
     "output_type": "execute_result"
    },
    {
     "data": {
      "image/png": "[encoded data removed]",
      "text/plain": [
       "<Figure size 864x576 with 1 Axes>"
      ]
     },
     "metadata": {
      "needs_background": "light"
     },
     "output_type": "display_data"
    }
   ],
   "source": [
    "y_test.plot(figsize=(12,8))"
   ]
  },
  {
   "cell_type": "code",
   "execution_count": 19,
   "metadata": {},
   "outputs": [
    {
     "name": "stdout",
     "output_type": "stream",
     "text": [
      "MAPE:  1.4480969982657534\n",
      "R2:  0.8006099314111819\n",
      "MSE:  5.820543801066832\n"
     ]
    }
   ],
   "source": [
    "from sklearn.metrics import mean_absolute_percentage_error\n",
    "from sklearn.metrics import r2_score\n",
    "from sklearn.metrics import mean_squared_error\n",
    "\n",
    "#erros nos dados de teste do SVM\n",
    "print('MAPE: ',mean_absolute_percentage_error(y_test['Label'],y_test['Pred'])*100)\n",
    "print('R2: ',r2_score(y_test['Label'],y_test['Pred']))\n",
    "print('MSE: ',mean_squared_error(y_test['Label'],y_test['Pred']))"
   ]
  },
  {
   "cell_type": "code",
   "execution_count": 22,
   "metadata": {},
   "outputs": [
    {
     "name": "stdout",
     "output_type": "stream",
     "text": [
      "MAPE:  2.8768195614411702\n",
      "R2:  0.9957213737466365\n",
      "MSE:  3.9410938798801074\n"
     ]
    }
   ],
   "source": [
    "#erros nos dados de treinamento do SVM\n",
    "print('MAPE: ',mean_absolute_percentage_error(y_train['Label'],y_train['Pred'])*100)\n",
    "print('R2: ',r2_score(y_train['Label'],y_train['Pred']))\n",
    "print('MSE: ',mean_squared_error(y_train['Label'],y_train['Pred']))"
   ]
  },
  {
   "cell_type": "markdown",
   "metadata": {},
   "source": [
    "Analisando os erros para treinamento e teste do SVM, verifica-se um bom desempenho em ambas as amostras."
   ]
  },
  {
   "cell_type": "code",
   "execution_count": 24,
   "metadata": {
    "scrolled": true
   },
   "outputs": [
    {
     "name": "stdout",
     "output_type": "stream",
     "text": [
      "              precision    recall  f1-score   support\n",
      "\n",
      "        Alta       0.64      0.63      0.64       261\n",
      "       Queda       0.66      0.68      0.67       280\n",
      "\n",
      "    accuracy                           0.65       541\n",
      "   macro avg       0.65      0.65      0.65       541\n",
      "weighted avg       0.65      0.65      0.65       541\n",
      "\n"
     ]
    }
   ],
   "source": [
    "Table=pd.concat([X_test/10000000000,y_test],axis=1)\n",
    "Table['Mov_true']=Table['Label']-Table['entries']\n",
    "Table['Mov_Pred']=Table['Pred']- Table['entries']\n",
    "\n",
    "Table['Mov_true']  = np.where(Table['Mov_true']>0, 'Alta', 'Queda')\n",
    "Table['Mov_Pred']  = np.where(Table['Mov_Pred']>0, 'Alta', 'Queda')\n",
    "\n",
    "from sklearn.metrics import classification_report\n",
    "print(classification_report(Table['Mov_true'], Table['Mov_Pred']))"
   ]
  },
  {
   "cell_type": "markdown",
   "metadata": {},
   "source": [
    "Calculo do acerto de direção nas previsões -> Não usual em regressão. No entanto, para séries financeiras é importante saber a capacidade do modelo em acertar a direção do mercado. No caso da série histórica do metrô também pode ser útil para indicar aumento ou diminuição no tráfego de pessoas."
   ]
  },
  {
   "cell_type": "markdown",
   "metadata": {},
   "source": [
    "#  Conclusão: O modelo SVM apresentou os melhores indicadores de erro e acurácia. A rede neural apesar de mais complexa exigiu muito processamento e tempo de treinamento. O modelo de support vector machine conseguiu um bom fitting com pouco processamento.  O Auto arima também atingiu bons resultados."
   ]
  }
 ],
 "metadata": {
  "kernelspec": {
   "display_name": "Python 3",
   "language": "python",
   "name": "python3"
  },
  "language_info": {
   "codemirror_mode": {
    "name": "ipython",
    "version": 3
   },
   "file_extension": ".py",
   "mimetype": "text/x-python",
   "name": "python",
   "nbconvert_exporter": "python",
   "pygments_lexer": "ipython3",
   "version": "3.8.6"
  }
 },
 "nbformat": 4,
 "nbformat_minor": 4
}
